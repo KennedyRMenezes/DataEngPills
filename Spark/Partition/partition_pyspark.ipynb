{
  "nbformat": 4,
  "nbformat_minor": 0,
  "metadata": {
    "colab": {
      "provenance": []
    },
    "kernelspec": {
      "name": "python3",
      "display_name": "Python 3"
    },
    "language_info": {
      "name": "python"
    }
  },
  "cells": [
    {
      "cell_type": "code",
      "execution_count": 1,
      "metadata": {
        "colab": {
          "base_uri": "https://localhost:8080/"
        },
        "id": "95hDdns-Ju0M",
        "outputId": "1dbadd5b-4fb1-4f56-cec2-f1c0ebe4f049"
      },
      "outputs": [
        {
          "output_type": "stream",
          "name": "stdout",
          "text": [
            "Requirement already satisfied: pyspark in /usr/local/lib/python3.10/dist-packages (3.5.4)\n",
            "Requirement already satisfied: py4j==0.10.9.7 in /usr/local/lib/python3.10/dist-packages (from pyspark) (0.10.9.7)\n"
          ]
        }
      ],
      "source": [
        "!pip install pyspark"
      ]
    },
    {
      "cell_type": "code",
      "source": [
        "from pyspark.sql import SparkSession\n",
        "from pyspark.sql.functions import date_format, to_date"
      ],
      "metadata": {
        "id": "f7ciIV_RJxxI"
      },
      "execution_count": 36,
      "outputs": []
    },
    {
      "cell_type": "code",
      "source": [
        "spark = SparkSession.builder.appName(\"Tratamento de Dados\").getOrCreate()"
      ],
      "metadata": {
        "id": "IpjeSTOYJ6FL"
      },
      "execution_count": 37,
      "outputs": []
    },
    {
      "cell_type": "code",
      "source": [
        "df = spark.read.format('csv').option(\"header\", \"true\").option(\"delimiter\", \";\").load(\"employee_data_100.csv\")"
      ],
      "metadata": {
        "id": "c1KM-0IhKEPG"
      },
      "execution_count": 38,
      "outputs": []
    },
    {
      "cell_type": "code",
      "source": [
        "df.show()"
      ],
      "metadata": {
        "colab": {
          "base_uri": "https://localhost:8080/"
        },
        "id": "Lg78xmluKUZi",
        "outputId": "7c968665-342e-4ac8-df76-0369a4960a68"
      },
      "execution_count": 39,
      "outputs": [
        {
          "output_type": "stream",
          "name": "stdout",
          "text": [
            "+-----+--------+---------+----+----------+----+----+------+\n",
            "|EMPNO|   ENAME|      JOB| MGR|  HIREDATE| SAL|COMM|DEPTNO|\n",
            "+-----+--------+---------+----+----------+----+----+------+\n",
            "| 7369|    LOWE|  ANALYST|7566|12/01/1986|3501|NULL|    50|\n",
            "| 7370|   SCOTT|PRESIDENT|7902|14/07/1999|4738|1400|    20|\n",
            "| 7371|   CHANG|  ANALYST|7902|04/09/1985|4908| 500|    40|\n",
            "| 7372|  ROGERS|  MANAGER|7698|05/02/1994|1787|1400|    40|\n",
            "| 7373|  WAGNER| SALESMAN|7839|29/06/2014|2156| 300|    50|\n",
            "| 7374| JOHNSON| SALESMAN|7839|21/01/2008|4803|NULL|    20|\n",
            "| 7375|     RAY| SALESMAN|7566|22/04/1990|4374|NULL|    50|\n",
            "| 7376|   BROCK|  ANALYST|7902|09/10/2024|3612| 300|    50|\n",
            "| 7377|   LEWIS| SALESMAN|7566|27/02/1993|4291|1400|    50|\n",
            "| 7378|WILLIAMS| SALESMAN|7566|04/01/2002|2404| 500|    50|\n",
            "| 7379|   SMITH|    CLERK|7566|09/03/1989|3698|NULL|    20|\n",
            "| 7380|ARELLANO|    CLERK|7566|18/02/2009|3154|NULL|    50|\n",
            "| 7381| LINDSEY|  ANALYST|7839|16/10/2000|3884|NULL|    30|\n",
            "| 7382|ESPINOZA|  ANALYST|7839|13/07/2013|4354| 300|    50|\n",
            "| 7383|GALLEGOS|  ANALYST|7566|11/10/1993|4331| 300|    40|\n",
            "| 7384|   DAVIS| SALESMAN|7788|      NULL|1071|NULL|    30|\n",
            "| 7385| CHAPMAN|    CLERK|7902|15/06/2022|4383|1400|    30|\n",
            "| 7386|  FOWLER| SALESMAN|7839|22/03/2024|4430|NULL|    30|\n",
            "| 7387|  MARTIN|    CLERK|7566|05/05/1993|4138|NULL|    30|\n",
            "| 7388|   DURAN|  ANALYST|7902|29/08/2016|1972|1400|    40|\n",
            "+-----+--------+---------+----+----------+----+----+------+\n",
            "only showing top 20 rows\n",
            "\n"
          ]
        }
      ]
    },
    {
      "cell_type": "code",
      "source": [
        "df = df.withColumn(\"HIREDATE\", to_date(\"HIREDATE\", \"dd/MM/yyyy\")).fillna({\"HIREDATE\": \"9999-12-31\"})"
      ],
      "metadata": {
        "id": "cJfKJHIfKZw4"
      },
      "execution_count": 40,
      "outputs": []
    },
    {
      "cell_type": "code",
      "source": [
        "df.show()"
      ],
      "metadata": {
        "colab": {
          "base_uri": "https://localhost:8080/"
        },
        "id": "BOuxTr-8LO1r",
        "outputId": "66cb419c-7c30-4549-c56c-53c4153d7d70"
      },
      "execution_count": 41,
      "outputs": [
        {
          "output_type": "stream",
          "name": "stdout",
          "text": [
            "+-----+--------+---------+----+----------+----+----+------+\n",
            "|EMPNO|   ENAME|      JOB| MGR|  HIREDATE| SAL|COMM|DEPTNO|\n",
            "+-----+--------+---------+----+----------+----+----+------+\n",
            "| 7369|    LOWE|  ANALYST|7566|1986-01-12|3501|NULL|    50|\n",
            "| 7370|   SCOTT|PRESIDENT|7902|1999-07-14|4738|1400|    20|\n",
            "| 7371|   CHANG|  ANALYST|7902|1985-09-04|4908| 500|    40|\n",
            "| 7372|  ROGERS|  MANAGER|7698|1994-02-05|1787|1400|    40|\n",
            "| 7373|  WAGNER| SALESMAN|7839|2014-06-29|2156| 300|    50|\n",
            "| 7374| JOHNSON| SALESMAN|7839|2008-01-21|4803|NULL|    20|\n",
            "| 7375|     RAY| SALESMAN|7566|1990-04-22|4374|NULL|    50|\n",
            "| 7376|   BROCK|  ANALYST|7902|2024-10-09|3612| 300|    50|\n",
            "| 7377|   LEWIS| SALESMAN|7566|1993-02-27|4291|1400|    50|\n",
            "| 7378|WILLIAMS| SALESMAN|7566|2002-01-04|2404| 500|    50|\n",
            "| 7379|   SMITH|    CLERK|7566|1989-03-09|3698|NULL|    20|\n",
            "| 7380|ARELLANO|    CLERK|7566|2009-02-18|3154|NULL|    50|\n",
            "| 7381| LINDSEY|  ANALYST|7839|2000-10-16|3884|NULL|    30|\n",
            "| 7382|ESPINOZA|  ANALYST|7839|2013-07-13|4354| 300|    50|\n",
            "| 7383|GALLEGOS|  ANALYST|7566|1993-10-11|4331| 300|    40|\n",
            "| 7384|   DAVIS| SALESMAN|7788|9999-12-31|1071|NULL|    30|\n",
            "| 7385| CHAPMAN|    CLERK|7902|2022-06-15|4383|1400|    30|\n",
            "| 7386|  FOWLER| SALESMAN|7839|2024-03-22|4430|NULL|    30|\n",
            "| 7387|  MARTIN|    CLERK|7566|1993-05-05|4138|NULL|    30|\n",
            "| 7388|   DURAN|  ANALYST|7902|2016-08-29|1972|1400|    40|\n",
            "+-----+--------+---------+----+----------+----+----+------+\n",
            "only showing top 20 rows\n",
            "\n"
          ]
        }
      ]
    },
    {
      "cell_type": "code",
      "source": [
        "df = df.withColumn(\"YEAR\", date_format(\"HIREDATE\", \"yyyy\")).withColumn(\"MONTH\", date_format(\"HIREDATE\", \"MM\"))\n",
        "df.show()"
      ],
      "metadata": {
        "colab": {
          "base_uri": "https://localhost:8080/"
        },
        "id": "S0gnJAWtLSD8",
        "outputId": "9602e41c-1e24-4dec-875a-8373e3af8e1d"
      },
      "execution_count": 42,
      "outputs": [
        {
          "output_type": "stream",
          "name": "stdout",
          "text": [
            "+-----+--------+---------+----+----------+----+----+------+----+-----+\n",
            "|EMPNO|   ENAME|      JOB| MGR|  HIREDATE| SAL|COMM|DEPTNO|YEAR|MONTH|\n",
            "+-----+--------+---------+----+----------+----+----+------+----+-----+\n",
            "| 7369|    LOWE|  ANALYST|7566|1986-01-12|3501|NULL|    50|1986|   01|\n",
            "| 7370|   SCOTT|PRESIDENT|7902|1999-07-14|4738|1400|    20|1999|   07|\n",
            "| 7371|   CHANG|  ANALYST|7902|1985-09-04|4908| 500|    40|1985|   09|\n",
            "| 7372|  ROGERS|  MANAGER|7698|1994-02-05|1787|1400|    40|1994|   02|\n",
            "| 7373|  WAGNER| SALESMAN|7839|2014-06-29|2156| 300|    50|2014|   06|\n",
            "| 7374| JOHNSON| SALESMAN|7839|2008-01-21|4803|NULL|    20|2008|   01|\n",
            "| 7375|     RAY| SALESMAN|7566|1990-04-22|4374|NULL|    50|1990|   04|\n",
            "| 7376|   BROCK|  ANALYST|7902|2024-10-09|3612| 300|    50|2024|   10|\n",
            "| 7377|   LEWIS| SALESMAN|7566|1993-02-27|4291|1400|    50|1993|   02|\n",
            "| 7378|WILLIAMS| SALESMAN|7566|2002-01-04|2404| 500|    50|2002|   01|\n",
            "| 7379|   SMITH|    CLERK|7566|1989-03-09|3698|NULL|    20|1989|   03|\n",
            "| 7380|ARELLANO|    CLERK|7566|2009-02-18|3154|NULL|    50|2009|   02|\n",
            "| 7381| LINDSEY|  ANALYST|7839|2000-10-16|3884|NULL|    30|2000|   10|\n",
            "| 7382|ESPINOZA|  ANALYST|7839|2013-07-13|4354| 300|    50|2013|   07|\n",
            "| 7383|GALLEGOS|  ANALYST|7566|1993-10-11|4331| 300|    40|1993|   10|\n",
            "| 7384|   DAVIS| SALESMAN|7788|9999-12-31|1071|NULL|    30|9999|   12|\n",
            "| 7385| CHAPMAN|    CLERK|7902|2022-06-15|4383|1400|    30|2022|   06|\n",
            "| 7386|  FOWLER| SALESMAN|7839|2024-03-22|4430|NULL|    30|2024|   03|\n",
            "| 7387|  MARTIN|    CLERK|7566|1993-05-05|4138|NULL|    30|1993|   05|\n",
            "| 7388|   DURAN|  ANALYST|7902|2016-08-29|1972|1400|    40|2016|   08|\n",
            "+-----+--------+---------+----+----------+----+----+------+----+-----+\n",
            "only showing top 20 rows\n",
            "\n"
          ]
        }
      ]
    },
    {
      "cell_type": "code",
      "source": [
        "!pip install delta-spark"
      ],
      "metadata": {
        "colab": {
          "base_uri": "https://localhost:8080/"
        },
        "id": "pQEKCiatOQyN",
        "outputId": "9e51c0ec-5312-4970-ca1e-f3486554c1eb"
      },
      "execution_count": 46,
      "outputs": [
        {
          "output_type": "stream",
          "name": "stdout",
          "text": [
            "Collecting delta-spark\n",
            "  Downloading delta_spark-3.3.0-py3-none-any.whl.metadata (2.0 kB)\n",
            "Requirement already satisfied: pyspark<3.6.0,>=3.5.3 in /usr/local/lib/python3.10/dist-packages (from delta-spark) (3.5.4)\n",
            "Requirement already satisfied: importlib-metadata>=1.0.0 in /usr/local/lib/python3.10/dist-packages (from delta-spark) (8.5.0)\n",
            "Requirement already satisfied: zipp>=3.20 in /usr/local/lib/python3.10/dist-packages (from importlib-metadata>=1.0.0->delta-spark) (3.21.0)\n",
            "Requirement already satisfied: py4j==0.10.9.7 in /usr/local/lib/python3.10/dist-packages (from pyspark<3.6.0,>=3.5.3->delta-spark) (0.10.9.7)\n",
            "Downloading delta_spark-3.3.0-py3-none-any.whl (21 kB)\n",
            "Installing collected packages: delta-spark\n",
            "Successfully installed delta-spark-3.3.0\n"
          ]
        }
      ]
    },
    {
      "cell_type": "code",
      "source": [
        "from google.colab import drive\n",
        "from delta import *"
      ],
      "metadata": {
        "id": "6o5Ct1D0OMl0"
      },
      "execution_count": 49,
      "outputs": []
    },
    {
      "cell_type": "code",
      "source": [
        "df.write.format(\"parquet\").partitionBy(\"YEAR\", \"MONTH\").mode(\"overwrite\").save(\"/content/sample_data/test_partitions\")"
      ],
      "metadata": {
        "id": "Hbopw8I9Nbp1"
      },
      "execution_count": 50,
      "outputs": []
    },
    {
      "cell_type": "code",
      "source": [],
      "metadata": {
        "id": "LZfGMr8TNs2y"
      },
      "execution_count": null,
      "outputs": []
    }
  ]
}