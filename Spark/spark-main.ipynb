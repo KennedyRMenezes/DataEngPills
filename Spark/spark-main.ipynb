{
 "cells": [
  {
   "cell_type": "code",
   "execution_count": 20,
   "metadata": {},
   "outputs": [],
   "source": [
    "from pyspark.sql import SparkSession\n",
    "from datetime import datetime\n",
    "from pyspark.sql.window import Window\n",
    "from pyspark.sql.functions import row_number, year, month"
   ]
  },
  {
   "cell_type": "code",
   "execution_count": 4,
   "metadata": {},
   "outputs": [
    {
     "name": "stderr",
     "output_type": "stream",
     "text": [
      "24/09/12 10:55:24 WARN Utils: Your hostname, ken resolves to a loopback address: 127.0.1.1; using 192.168.15.13 instead (on interface wlp2s0)\n",
      "24/09/12 10:55:24 WARN Utils: Set SPARK_LOCAL_IP if you need to bind to another address\n",
      "Setting default log level to \"WARN\".\n",
      "To adjust logging level use sc.setLogLevel(newLevel). For SparkR, use setLogLevel(newLevel).\n",
      "24/09/12 10:55:24 WARN NativeCodeLoader: Unable to load native-hadoop library for your platform... using builtin-java classes where applicable\n"
     ]
    }
   ],
   "source": [
    "spark = SparkSession \\\n",
    "        .builder \\\n",
    "        .appName(\"Using Row Number\") \\\n",
    "        .getOrCreate()"
   ]
  },
  {
   "cell_type": "markdown",
   "metadata": {},
   "source": [
    "#### Using Row Number to Identify Duplicates"
   ]
  },
  {
   "cell_type": "code",
   "execution_count": 7,
   "metadata": {},
   "outputs": [],
   "source": [
    "dados = [\n",
    "(datetime(2024, 1, 1), 100.0, \"12345678901\"),\n",
    "    (datetime(2024, 1, 15), 150.0, \"12345678901\"),\n",
    "    (datetime(2024, 1, 1), 100.0, \"12345678901\"),\n",
    "    (datetime(2024, 1, 20), 200.0, \"98765432100\"),\n",
    "    (datetime(2024, 1, 20), 200.0, \"98765432100\"),\n",
    "    (datetime(2024, 2, 5), 250.0, \"22233344455\"),\n",
    "    (datetime(2024, 2, 15), 300.0, \"33344455566\"),\n",
    "    (datetime(2024, 2, 5), 250.0, \"22233344455\"),\n",
    "    (datetime(2024, 2, 25), 350.0, \"44455566677\"),\n",
    "    (datetime(2024, 2, 25), 350.0, \"44455566677\"),\n",
    "    (datetime(2024, 3, 10), 400.0, \"55566677788\"),\n",
    "    (datetime(2024, 3, 20), 450.0, \"66677788899\"),\n",
    "    (datetime(2024, 3, 10), 400.0, \"55566677788\"),\n",
    "    (datetime(2024, 3, 25), 500.0, \"77788899900\"),\n",
    "    (datetime(2024, 3, 30), 550.0, \"88899900011\"),\n",
    "    (datetime(2024, 4, 1), 600.0, \"99900011122\"),\n",
    "    (datetime(2024, 4, 10), 650.0, \"00011122233\"),\n",
    "    (datetime(2024, 4, 10), 650.0, \"00011122233\"),\n",
    "    (datetime(2024, 4, 20), 700.0, \"11122233344\"),\n",
    "    (datetime(2024, 4, 25), 750.0, \"22233344455\"),\n",
    "    (datetime(2024, 5, 5), 800.0, \"33344455566\"),\n",
    "    (datetime(2024, 5, 10), 850.0, \"44455566677\"),\n",
    "    (datetime(2024, 5, 10), 850.0, \"44455566677\"),\n",
    "    (datetime(2024, 5, 15), 900.0, \"55566677788\"),\n",
    "    (datetime(2024, 5, 20), 950.0, \"66677788899\")\n",
    "]\n",
    "\n",
    "colunas = [\"data\", \"valor\", \"id\"]"
   ]
  },
  {
   "cell_type": "code",
   "execution_count": 8,
   "metadata": {},
   "outputs": [],
   "source": [
    "df = spark.createDataFrame(dados, colunas)"
   ]
  },
  {
   "cell_type": "code",
   "execution_count": 10,
   "metadata": {},
   "outputs": [
    {
     "name": "stdout",
     "output_type": "stream",
     "text": [
      "+-------------------+-----+-----------+\n",
      "|data               |valor|id         |\n",
      "+-------------------+-----+-----------+\n",
      "|2024-01-01 00:00:00|100.0|12345678901|\n",
      "|2024-01-15 00:00:00|150.0|12345678901|\n",
      "|2024-01-01 00:00:00|100.0|12345678901|\n",
      "|2024-01-20 00:00:00|200.0|98765432100|\n",
      "|2024-01-20 00:00:00|200.0|98765432100|\n",
      "|2024-02-05 00:00:00|250.0|22233344455|\n",
      "|2024-02-15 00:00:00|300.0|33344455566|\n",
      "|2024-02-05 00:00:00|250.0|22233344455|\n",
      "|2024-02-25 00:00:00|350.0|44455566677|\n",
      "|2024-02-25 00:00:00|350.0|44455566677|\n",
      "|2024-03-10 00:00:00|400.0|55566677788|\n",
      "|2024-03-20 00:00:00|450.0|66677788899|\n",
      "|2024-03-10 00:00:00|400.0|55566677788|\n",
      "|2024-03-25 00:00:00|500.0|77788899900|\n",
      "|2024-03-30 00:00:00|550.0|88899900011|\n",
      "|2024-04-01 00:00:00|600.0|99900011122|\n",
      "|2024-04-10 00:00:00|650.0|00011122233|\n",
      "|2024-04-10 00:00:00|650.0|00011122233|\n",
      "|2024-04-20 00:00:00|700.0|11122233344|\n",
      "|2024-04-25 00:00:00|750.0|22233344455|\n",
      "|2024-05-05 00:00:00|800.0|33344455566|\n",
      "|2024-05-10 00:00:00|850.0|44455566677|\n",
      "|2024-05-10 00:00:00|850.0|44455566677|\n",
      "|2024-05-15 00:00:00|900.0|55566677788|\n",
      "|2024-05-20 00:00:00|950.0|66677788899|\n",
      "+-------------------+-----+-----------+\n",
      "\n"
     ]
    }
   ],
   "source": [
    "df.show(25,truncate=False)"
   ]
  },
  {
   "cell_type": "code",
   "execution_count": 13,
   "metadata": {},
   "outputs": [
    {
     "name": "stderr",
     "output_type": "stream",
     "text": [
      "[Stage 6:>                                                          (0 + 8) / 8]\r"
     ]
    },
    {
     "name": "stdout",
     "output_type": "stream",
     "text": [
      "+-------------------+-----+-----------+----------+\n",
      "|data               |valor|id         |row_number|\n",
      "+-------------------+-----+-----------+----------+\n",
      "|2024-01-01 00:00:00|100.0|12345678901|1         |\n",
      "|2024-01-15 00:00:00|150.0|12345678901|1         |\n",
      "|2024-01-20 00:00:00|200.0|98765432100|1         |\n",
      "|2024-02-05 00:00:00|250.0|22233344455|1         |\n",
      "|2024-02-15 00:00:00|300.0|33344455566|1         |\n",
      "|2024-02-25 00:00:00|350.0|44455566677|1         |\n",
      "|2024-03-10 00:00:00|400.0|55566677788|1         |\n",
      "|2024-03-20 00:00:00|450.0|66677788899|1         |\n",
      "|2024-03-25 00:00:00|500.0|77788899900|1         |\n",
      "|2024-03-30 00:00:00|550.0|88899900011|1         |\n",
      "|2024-04-01 00:00:00|600.0|99900011122|1         |\n",
      "|2024-04-10 00:00:00|650.0|00011122233|1         |\n",
      "|2024-04-20 00:00:00|700.0|11122233344|1         |\n",
      "|2024-04-25 00:00:00|750.0|22233344455|1         |\n",
      "|2024-05-05 00:00:00|800.0|33344455566|1         |\n",
      "|2024-05-10 00:00:00|850.0|44455566677|1         |\n",
      "|2024-05-15 00:00:00|900.0|55566677788|1         |\n",
      "|2024-05-20 00:00:00|950.0|66677788899|1         |\n",
      "+-------------------+-----+-----------+----------+\n",
      "\n"
     ]
    },
    {
     "name": "stderr",
     "output_type": "stream",
     "text": [
      "                                                                                \r"
     ]
    }
   ],
   "source": [
    "windowSpec = Window.partitionBy(\"data\", \"id\").orderBy(\"valor\")\n",
    "\n",
    "df_with_row = df.withColumn(\"row_number\", row_number().over(windowSpec))\n",
    "\n",
    "df_no_duplicates = df_with_row.filter(df_with_row[\"row_number\"] == 1)\n",
    "\n",
    "df_no_duplicates.show(truncate=False)"
   ]
  },
  {
   "cell_type": "code",
   "execution_count": 26,
   "metadata": {},
   "outputs": [
    {
     "name": "stdout",
     "output_type": "stream",
     "text": [
      "+----+---+-----+\n",
      "|ano |mes|count|\n",
      "+----+---+-----+\n",
      "|2024|1  |3    |\n",
      "|2024|2  |3    |\n",
      "|2024|3  |4    |\n",
      "|2024|4  |4    |\n",
      "|2024|5  |4    |\n",
      "+----+---+-----+\n",
      "\n"
     ]
    }
   ],
   "source": [
    "df_d = df_no_duplicates \\\n",
    "        .groupBy(year(\"data\").alias(\"ano\"), month(\"data\").alias(\"mes\")) \\\n",
    "        .count() \\\n",
    "        .orderBy([\"ano\", \"mes\"])\n",
    "\n",
    "df_d.show(truncate=False)"
   ]
  },
  {
   "cell_type": "code",
   "execution_count": null,
   "metadata": {},
   "outputs": [],
   "source": []
  }
 ],
 "metadata": {
  "kernelspec": {
   "display_name": "venv",
   "language": "python",
   "name": "python3"
  },
  "language_info": {
   "codemirror_mode": {
    "name": "ipython",
    "version": 3
   },
   "file_extension": ".py",
   "mimetype": "text/x-python",
   "name": "python",
   "nbconvert_exporter": "python",
   "pygments_lexer": "ipython3",
   "version": "3.10.12"
  }
 },
 "nbformat": 4,
 "nbformat_minor": 2
}
